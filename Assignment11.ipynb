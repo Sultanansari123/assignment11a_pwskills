{
 "cells": [
  {
   "cell_type": "markdown",
   "id": "14d3a0dc-dc2a-4971-a9ad-c9996adfb7f7",
   "metadata": {},
   "source": [
    "# Ans1-"
   ]
  },
  {
   "cell_type": "markdown",
   "id": "9a3c2703-6090-4b7b-b51e-6c1a074cd30a",
   "metadata": {},
   "source": [
    "Ensemble technique in machine learning combines multiple model to improve overall performance."
   ]
  },
  {
   "cell_type": "markdown",
   "id": "6d32f638-acf1-4efe-8c41-f2d18c3ce721",
   "metadata": {},
   "source": [
    "# Ans2-"
   ]
  },
  {
   "cell_type": "markdown",
   "id": "6a48e744-44cc-474b-b931-6f376acb955a",
   "metadata": {},
   "source": [
    "Ensemble technique are used in machine learning  to enhance predictive accuracy,robustness and generalization by combining multiple models."
   ]
  },
  {
   "cell_type": "markdown",
   "id": "6cfce0b5-7736-40ae-ac20-467f3a6341c0",
   "metadata": {},
   "source": [
    "# Ans3-"
   ]
  },
  {
   "cell_type": "markdown",
   "id": "5f561260-f993-4af8-b101-745be56f8745",
   "metadata": {},
   "source": [
    "Bagging or bootstrap aggregating is a machine learning technique that builds multiple model independently and combines their prediction to improve overall performance."
   ]
  },
  {
   "cell_type": "markdown",
   "id": "20bd8e2c-431a-4e34-8565-f289eab653de",
   "metadata": {},
   "source": [
    "# Ans4-"
   ]
  },
  {
   "cell_type": "markdown",
   "id": "538abc54-1277-4199-bfb8-8aeba1edc025",
   "metadata": {},
   "source": [
    "boosting is a machine learning technique that combines multiple weak leaners sequentially to create strong learner with the focuses on correcting error made by previous model."
   ]
  },
  {
   "cell_type": "markdown",
   "id": "e017ab32-776f-4f6b-96b9-55ec6aca8445",
   "metadata": {},
   "source": [
    "# Ans5-"
   ]
  },
  {
   "cell_type": "markdown",
   "id": "f079ba8e-f0b1-40e4-ac89-a3a57c106874",
   "metadata": {},
   "source": [
    "\n",
    "Ensemble techniques improve model accuracy, robustness, and generalization by combining the strengths of multiple models.\n",
    "\n",
    "\n",
    "\n",
    "\n",
    "\n"
   ]
  },
  {
   "cell_type": "markdown",
   "id": "65bc9800-5e9c-413b-996e-dd64d00f59c4",
   "metadata": {},
   "source": [
    "# Ans6-"
   ]
  },
  {
   "cell_type": "markdown",
   "id": "1a15c51c-d77c-4c95-a801-772b885e047e",
   "metadata": {},
   "source": [
    "not always ,ensemble techniques often outerperform individual model in the term of accuracy and generalization."
   ]
  },
  {
   "cell_type": "markdown",
   "id": "bb38e54b-5cb3-4776-8a77-9b8ff5ddd0c8",
   "metadata": {},
   "source": [
    "# Ans7-"
   ]
  },
  {
   "cell_type": "markdown",
   "id": "833d590b-a6aa-45aa-a472-25ea7c209ced",
   "metadata": {},
   "source": [
    "The confidence interval using bootstrap is calculated by determining the range of values within which a parameter (e.g., mean) is likely to lie, based on resampling from the dataset.\n",
    "\n",
    "\n",
    "\n",
    "\n"
   ]
  },
  {
   "cell_type": "markdown",
   "id": "48605420-b1f9-444a-bb0b-8a130999ad39",
   "metadata": {},
   "source": [
    "# Ans8-"
   ]
  },
  {
   "cell_type": "markdown",
   "id": "76339905-0d3a-4b52-8232-d0e04c0481c6",
   "metadata": {},
   "source": [
    "Bootstrap works by repeatedly resampling with replacement from the dataset; the steps involve selecting random samples, calculating the statistic of interest, and creating a distribution to estimate parameters.\n",
    "\n",
    "\n",
    "\n",
    "\n"
   ]
  },
  {
   "cell_type": "markdown",
   "id": "f4028257-25ff-4c1a-a88c-01e6c91225a1",
   "metadata": {},
   "source": [
    "# Ans9-"
   ]
  },
  {
   "cell_type": "markdown",
   "id": "3fb22edd-1758-42d3-898d-2fc2daf7742c",
   "metadata": {},
   "source": [
    "To estimate the 95% confidence interval for the population mean height using bootstrap:"
   ]
  },
  {
   "cell_type": "markdown",
   "id": "57a2ae59-feed-421d-bbe4-5772a92a9af3",
   "metadata": {},
   "source": [
    "Resample with replacement: Create multiple bootstrap samples (e.g., 1000) by randomly selecting 50 heights with replacement from the original sample.\n",
    "\n",
    "Calculate mean for each sample: Calculate the mean height for each bootstrap sample.\n",
    "\n",
    "Construct confidence interval: Determine the 2.5th and 97.5th percentiles of the bootstrap sample means to form the 95% confidence interval.\n",
    "\n",
    "This process provides a range of values within which the true population mean height is likely to fall."
   ]
  },
  {
   "cell_type": "code",
   "execution_count": null,
   "id": "e16ad771-9293-4062-94bd-4801826e5818",
   "metadata": {},
   "outputs": [],
   "source": []
  }
 ],
 "metadata": {
  "kernelspec": {
   "display_name": "Python 3 (ipykernel)",
   "language": "python",
   "name": "python3"
  },
  "language_info": {
   "codemirror_mode": {
    "name": "ipython",
    "version": 3
   },
   "file_extension": ".py",
   "mimetype": "text/x-python",
   "name": "python",
   "nbconvert_exporter": "python",
   "pygments_lexer": "ipython3",
   "version": "3.10.8"
  }
 },
 "nbformat": 4,
 "nbformat_minor": 5
}
